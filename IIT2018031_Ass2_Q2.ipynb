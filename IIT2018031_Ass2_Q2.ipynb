{
  "nbformat": 4,
  "nbformat_minor": 0,
  "metadata": {
    "colab": {
      "name": "IIT2018031_Ass2_Q2.ipynb",
      "provenance": []
    },
    "kernelspec": {
      "name": "python3",
      "display_name": "Python 3"
    }
  },
  "cells": [
    {
      "cell_type": "code",
      "metadata": {
        "id": "X1RBl9SEAtVe"
      },
      "source": [
        "def myBspline(x, k, i, knot):\r\n",
        "   if k == 0:\r\n",
        "      return 1.0 if knot[i] <= x < knot[i+1] else 0.0\r\n",
        "   if knot[i+k] == knot[i]:\r\n",
        "      c1 = 0.0\r\n",
        "   else:\r\n",
        "      c1 = (x - knot[i])/(knot[i+k] - knot[i]) * myBspline(x, k-1, i, knot)\r\n",
        "   if knot[i+k+1] == knot[i+1]:\r\n",
        "      c2 = 0.0\r\n",
        "   else:\r\n",
        "      c2 = (knot[i+k+1] - x)/(knot[i+k+1] - knot[i+1]) * myBspline(x, k-1, i+1, knot)\r\n",
        "   return c1 + c2"
      ],
      "execution_count": 4,
      "outputs": []
    },
    {
      "cell_type": "code",
      "metadata": {
        "id": "-4fkMUmvA23_"
      },
      "source": [
        "def myFtandBtsummation(x, knot, ft, k):\r\n",
        "   n = len(knot) - k - 1\r\n",
        "   assert (n >= k+1) and (len(ft) >= n)\r\n",
        "   return sum(ft[i] * myBspline(x, k, i, knot) for i in range(n))\r\n"
      ],
      "execution_count": 5,
      "outputs": []
    },
    {
      "cell_type": "code",
      "metadata": {
        "colab": {
          "base_uri": "https://localhost:8080/"
        },
        "id": "wgLPMzTwA53m",
        "outputId": "40da8e6f-4eca-4d4e-eae1-cad9eb4e6567"
      },
      "source": [
        "from scipy.interpolate import BSpline\r\n",
        "\r\n",
        "knot = [0, 1, 2, 3, 4, 5, 6,7,8,9]\r\n",
        "\r\n",
        "img = [i*10 for i in range(1, 11)]\r\n",
        "ft = img\r\n",
        "scaled0degSpline = scaled1degSpline = scaled3degSpline = [0]*20\r\n",
        "\r\n",
        "print(\"Original image : \\n\")\r\n",
        "print(img)\r\n",
        "\r\n",
        "for i in range(0, 20, 2):\r\n",
        "    scaled0degSpline[i] = scaled1degSpline[i] = scaled3degSpline[i] = img[int(i / 2)]\r\n",
        "\r\n",
        "for i in range(1,19,2):\r\n",
        "  scaled0degSpline[i]=myFtandBtsummation((i / 2), knot, ft, 0)\r\n",
        "\r\n",
        "print(\"\\n\\nimage after applying 0 deg B-spline\\n\")\r\n",
        "print(scaled0degSpline)\r\n",
        "\r\n",
        "for i in range(1,19,2):\r\n",
        "  scaled1degSpline[i]=myFtandBtsummation((i / 2), knot, ft, 1)\r\n",
        "\r\n",
        "print(\"\\n\\nimage after applying 1 deg B-spline\\n\")\r\n",
        "print(scaled1degSpline)\r\n",
        "\r\n",
        "for i in range(1,20,2):\r\n",
        "  scaled3degSpline[i]=myFtandBtsummation(int(i / 2), knot, ft, 3)\r\n",
        "\r\n",
        "print(\"\\n\\nimage after applying 3 deg B-spline\\n\")\r\n",
        "for i in scaled3degSpline:\r\n",
        "  print(\"{0:.2f}\".format(i), end = \" \")\r\n"
      ],
      "execution_count": 19,
      "outputs": [
        {
          "output_type": "stream",
          "text": [
            "Original image : \n",
            "\n",
            "[10, 20, 30, 40, 50, 60, 70, 80, 90, 100]\n",
            "\n",
            "\n",
            "image after applying 0 deg B-spline\n",
            "\n",
            "[10, 10.0, 20, 20.0, 30, 30.0, 40, 40.0, 50, 50.0, 60, 60.0, 70, 70.0, 80, 80.0, 90, 90.0, 100, 0]\n",
            "\n",
            "\n",
            "image after applying 1 deg B-spline\n",
            "\n",
            "[10, 5.0, 20, 15.0, 30, 25.0, 40, 35.0, 50, 45.0, 60, 55.0, 70, 65.0, 80, 75.0, 90, 40.0, 100, 0]\n",
            "\n",
            "\n",
            "image after applying 3 deg B-spline\n",
            "\n",
            "10.00 0.00 20.00 1.67 30.00 10.00 40.00 20.00 50.00 30.00 60.00 40.00 70.00 50.00 80.00 48.33 90.00 10.00 100.00 0.00 "
          ],
          "name": "stdout"
        }
      ]
    }
  ]
}